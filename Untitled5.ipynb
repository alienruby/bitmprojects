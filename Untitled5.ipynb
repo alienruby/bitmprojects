{
 "cells": [
  {
   "cell_type": "code",
   "execution_count": 1,
   "id": "9c56507c-b021-4a08-a91b-0fab93aaa3a7",
   "metadata": {},
   "outputs": [
    {
     "name": "stdin",
     "output_type": "stream",
     "text": [
      " 4\n",
      " 4\n",
      " 3\n",
      " 3\n",
      " 3\n",
      " 3\n"
     ]
    },
    {
     "name": "stdout",
     "output_type": "stream",
     "text": [
      "3\n"
     ]
    }
   ],
   "source": [
    "n=int(input().strip())\n",
    "m=int(input())\n",
    "list=[(int(input().strip())) for i in range (n)]\n",
    "sum=0\n",
    "bus=0\n",
    "for i in range(n):\n",
    "    if(sum+list[i]>m):\n",
    "        bus=bus+1\n",
    "        sum=list[i]\n",
    "    else:\n",
    "        sum=sum+list[i]\n",
    "if(sum>0):\n",
    "    bus=bus+1\n",
    "print(sum)"
   ]
  },
  {
   "cell_type": "code",
   "execution_count": null,
   "id": "4c209a96-ac75-4230-b4ff-624cdd2b4b72",
   "metadata": {},
   "outputs": [],
   "source": [
    "write a program using the concept of single level inheritance to print sum of two elements"
   ]
  },
  {
   "cell_type": "code",
   "execution_count": 7,
   "id": "4f4b4b98-8619-4f96-a1c2-b034de3601ad",
   "metadata": {},
   "outputs": [
    {
     "name": "stdin",
     "output_type": "stream",
     "text": [
      " 5\n",
      " 5\n"
     ]
    },
    {
     "name": "stdout",
     "output_type": "stream",
     "text": [
      "sum= 10\n",
      "you are in child class\n"
     ]
    }
   ],
   "source": [
    "a=int(input())\n",
    "b=int(input())\n",
    "class parent:\n",
    "    def sum(self,a,b):\n",
    "        self.a=a\n",
    "        self.b=b\n",
    "        print(\"sum=\",self.a+self.b)\n",
    "class child (parent):\n",
    "    def son(self):\n",
    "        print(\"you are in child class\")\n",
    "o=child()\n",
    "o.sum(a,b)\n",
    "o.son()"
   ]
  },
  {
   "cell_type": "code",
   "execution_count": 8,
   "id": "8d3154eb-c786-41e3-ada5-9ab3ae2ded65",
   "metadata": {},
   "outputs": [
    {
     "name": "stdin",
     "output_type": "stream",
     "text": [
      " Siruguppa\n"
     ]
    },
    {
     "name": "stdout",
     "output_type": "stream",
     "text": [
      "count of vowels= 4\n"
     ]
    }
   ],
   "source": [
    "s=input()\n",
    "c=0\n",
    "for char in s:\n",
    "    if(char=='a' or char=='e' or char=='i' or char=='o' or char=='u' or char=='A' or char=='E' or char=='I' or char=='O' or char=='U'):\n",
    "        c=c+1\n",
    "print(\"count of vowels=\", c)"
   ]
  },
  {
   "cell_type": "code",
   "execution_count": 12,
   "id": "1b586c8c-7181-4b3f-857f-ef7f310158fe",
   "metadata": {},
   "outputs": [
    {
     "name": "stdin",
     "output_type": "stream",
     "text": [
      " sis\n"
     ]
    },
    {
     "name": "stdout",
     "output_type": "stream",
     "text": [
      "palindrome\n"
     ]
    }
   ],
   "source": [
    "s=input()\n",
    "i=0\n",
    "n=len(s)-1\n",
    "while(i<n):\n",
    "    if(s[i]!=s[n]):\n",
    "        print(\"not a palindrome\")\n",
    "        break\n",
    "    i=i+1\n",
    "    n=n-1\n",
    "else:\n",
    "    print(\"palindrome\")"
   ]
  },
  {
   "cell_type": "code",
   "execution_count": null,
   "id": "11828f4f-3c67-4d87-b8cb-c95d6022673a",
   "metadata": {},
   "outputs": [],
   "source": []
  }
 ],
 "metadata": {
  "kernelspec": {
   "display_name": "Python 3 (ipykernel)",
   "language": "python",
   "name": "python3"
  },
  "language_info": {
   "codemirror_mode": {
    "name": "ipython",
    "version": 3
   },
   "file_extension": ".py",
   "mimetype": "text/x-python",
   "name": "python",
   "nbconvert_exporter": "python",
   "pygments_lexer": "ipython3",
   "version": "3.11.7"
  }
 },
 "nbformat": 4,
 "nbformat_minor": 5
}
