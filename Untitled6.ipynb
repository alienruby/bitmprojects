{
 "cells": [
  {
   "cell_type": "code",
   "execution_count": 1,
   "id": "7f2be992-cb26-47fe-ae0c-14a9cd2eccbc",
   "metadata": {},
   "outputs": [
    {
     "name": "stdout",
     "output_type": "stream",
     "text": [
      "12\n",
      "17.204\n"
     ]
    }
   ],
   "source": [
    "from multipledispatch import dispatch\n",
    "def product(first, second, third):\n",
    "    result=first*second*third\n",
    "    print(result)\n",
    "def product(first, second, third):\n",
    "    result=first*second*third\n",
    "    print(result)\n",
    "product(2, 3, 2)\n",
    "product(2.2, 3.4, 2.3)"
   ]
  },
  {
   "cell_type": "code",
   "execution_count": null,
   "id": "2cbfbd8b-6490-48a4-b20e-d908012f5e4e",
   "metadata": {},
   "outputs": [],
   "source": [
    "whenever the function name is declared same in  both the inherited classes base class child class and which is having different \n",
    "types of parameters or different data types as an arguments is know as method overloading. when both the inherited classes base class and child class\n",
    "are having same function name and same number of parameters aree present in both the base class and child class together, \n",
    "in this condition the child class method will overwrite the base class method. if ur calling the functin to print thr data \n",
    "it will only print the over rided method data(child class data)"
   ]
  },
  {
   "cell_type": "code",
   "execution_count": 4,
   "id": "f4ec118d-fea9-4037-bc70-397258f7163f",
   "metadata": {},
   "outputs": [
    {
     "name": "stdout",
     "output_type": "stream",
     "text": [
      "Inside GrandChild\n",
      "Inside GrandChild\n"
     ]
    }
   ],
   "source": [
    "class Parent():\n",
    "   def show(self):\n",
    "       print(\"Inside Parent\")\n",
    "class Child(Parent):\n",
    "   def show(self):\n",
    "       print(\"Inside Child\")\n",
    "class GrandChild(Child):\n",
    "   def show(self):\n",
    "       print(\"Inside GrandChild\")\n",
    "g = GrandChild()\n",
    "g.show()\n",
    "g.show()"
   ]
  },
  {
   "cell_type": "code",
   "execution_count": null,
   "id": "959e7a9b-f69b-47e6-a183-910a87208da8",
   "metadata": {},
   "outputs": [],
   "source": []
  }
 ],
 "metadata": {
  "kernelspec": {
   "display_name": "Python 3 (ipykernel)",
   "language": "python",
   "name": "python3"
  },
  "language_info": {
   "codemirror_mode": {
    "name": "ipython",
    "version": 3
   },
   "file_extension": ".py",
   "mimetype": "text/x-python",
   "name": "python",
   "nbconvert_exporter": "python",
   "pygments_lexer": "ipython3",
   "version": "3.11.7"
  }
 },
 "nbformat": 4,
 "nbformat_minor": 5
}
