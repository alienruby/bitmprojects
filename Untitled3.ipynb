{
 "cells": [
  {
   "cell_type": "code",
   "execution_count": 1,
   "id": "0861544e-37fa-4696-b46d-c79d3c746089",
   "metadata": {},
   "outputs": [
    {
     "name": "stdin",
     "output_type": "stream",
     "text": [
      " 7\n",
      " 10\n"
     ]
    },
    {
     "name": "stdout",
     "output_type": "stream",
     "text": [
      "800\n"
     ]
    }
   ],
   "source": [
    "a=int(input())\n",
    "b=int(input())\n",
    "a=(280//7)*2\n",
    "b=b*a\n",
    "print(b)"
   ]
  },
  {
   "cell_type": "code",
   "execution_count": null,
   "id": "e5cba8a3-d760-48ae-ad1d-d832724e17c1",
   "metadata": {},
   "outputs": [],
   "source": [
    "the electricity board has decided to charge money based on the units counsuption by a particular home. if the units are less then\n",
    "or equal to 200 the cost of the each unit is 0.50 rupee, if the unit are less than or equal to 400, then the cost of each umit is 0.65p and \n",
    "100 rupees extra, if the units are less than or equal to 600 then the cost of each unit is 0.80p and 200 extra charge, if the unita are\n",
    "greater than 600 then the cost of the each unit is 1.25 and 425 extra.\n",
    "sample input\n",
    "200\n",
    "sample input\n",
    "250"
   ]
  },
  {
   "cell_type": "code",
   "execution_count": 6,
   "id": "f1c8ccda-f301-4cfc-8455-4980cb264b38",
   "metadata": {},
   "outputs": [
    {
     "name": "stdin",
     "output_type": "stream",
     "text": [
      " 800\n"
     ]
    },
    {
     "name": "stdout",
     "output_type": "stream",
     "text": [
      "Rs 1425.0\n"
     ]
    }
   ],
   "source": [
    "u=float(input())\n",
    "if(u<=200):\n",
    "    u=u*0.50\n",
    "    print(\"Rs\",u)\n",
    "elif(u<=400):\n",
    "    u=(u*0.65)+100\n",
    "    print(\"Rs\", u)\n",
    "elif(u<=600):\n",
    "    u=(u*0.80)+200\n",
    "    print(\"Rs\", u)\n",
    "else:\n",
    "    u=(u*1.25)+425\n",
    "    print(\"Rs\", u)"
   ]
  },
  {
   "cell_type": "code",
   "execution_count": 9,
   "id": "cba7e1e0-74e3-4643-820a-0cf1ba7d64f1",
   "metadata": {},
   "outputs": [
    {
     "name": "stdin",
     "output_type": "stream",
     "text": [
      " 2004\n"
     ]
    },
    {
     "name": "stdout",
     "output_type": "stream",
     "text": [
      "2004 is a leap year\n"
     ]
    }
   ],
   "source": [
    "year=int(input())\n",
    "if(year%4==0 and year%100!=0) or (year%400==0):\n",
    "    print(year, \"is a leap year\")\n",
    "else:\n",
    "    print(year, \"is not a leap year\")"
   ]
  },
  {
   "cell_type": "code",
   "execution_count": 12,
   "id": "3dfdb568-7c99-4068-93bc-09acfe2b1a87",
   "metadata": {},
   "outputs": [
    {
     "ename": "SyntaxError",
     "evalue": "invalid syntax (2659727088.py, line 9)",
     "output_type": "error",
     "traceback": [
      "\u001b[1;36m  Cell \u001b[1;32mIn[12], line 9\u001b[1;36m\u001b[0m\n\u001b[1;33m    as=int(input())\u001b[0m\n\u001b[1;37m    ^\u001b[0m\n\u001b[1;31mSyntaxError\u001b[0m\u001b[1;31m:\u001b[0m invalid syntax\n"
     ]
    }
   ],
   "source": [
    "fp=int(input())\n",
    "fd=int(input())\n",
    "fs=int(input())\n",
    "sp=int(input())\n",
    "sd=int(input())\n",
    "ss=int(input())\n",
    "ap=int(input())\n",
    "ad=int(input())\n",
    "as=int(input())\n",
    "ffp=fp-(fp*fd)//100+fs\n",
    "sfp=sp-(sp*sd)//100+ss\n",
    "afp=ap-(ap*ad)//100+as\n",
    "print(\"in flipkart rs:\", ffp)\n",
    "print(\"in snapdeal rs:\", sfp)\n",
    "print(\"in amazon rs:\", afp)\n",
    "if(ffp<=sfp and ffpM<=afp):\n",
    "    print(\"choose flipkart\")\n",
    "elif(sfp<<ffp and sfp<=afp):\n",
    "    print(\"choose snapdeal\")\n",
    "else:\n",
    "    print(\"choose amazon\")"
   ]
  },
  {
   "cell_type": "code",
   "execution_count": null,
   "id": "7268e1f6-c889-4f07-8e60-614cb44f84d3",
   "metadata": {},
   "outputs": [],
   "source": [
    "Rubina wants to buy sandwhich and went to near by shop there was a poster if any one comes up with a program for trendy number they will get a free\n",
    "sandwhich for a lifetime, now ur task is for to get a sandwhich for lifetime a number is set to be a trendy number if it has three digits and the\n",
    "    middle digit is divisible by 3"
   ]
  },
  {
   "cell_type": "code",
   "execution_count": 18,
   "id": "6111d978-8ed2-473f-91d7-6ec44bcf27cd",
   "metadata": {},
   "outputs": [
    {
     "name": "stdin",
     "output_type": "stream",
     "text": [
      " 145\n"
     ]
    },
    {
     "name": "stdout",
     "output_type": "stream",
     "text": [
      "not a trendy number 145\n"
     ]
    }
   ],
   "source": [
    "x=int(input())\n",
    "if(((x%100)//10)%3==0):\n",
    "    print(\"trendy number\", x)\n",
    "else:\n",
    "    print(\"not a trendy number\", x)"
   ]
  },
  {
   "cell_type": "code",
   "execution_count": null,
   "id": "e92e2fde-9297-475c-816c-a9c88fcdae03",
   "metadata": {},
   "outputs": [],
   "source": [
    "su=int(input())\n",
    "m=int(input())\n",
    "t=int(input())\n",
    "w=int(input())\n",
    "th=int(input())\n",
    "f=int(input())\n",
    "sa=int(input())\n",
    "r1=150*su\n",
    "if(m<=8):\n",
    "    r2=m*100\n",
    "else:\n",
    "    r2=8*100+(m-8)*115\n",
    "if(t<=8):\n",
    "    r3=t*100\n",
    "else:\n",
    "    r3=8*100+(t-8)*115\n",
    "if(w<=8):\n",
    "    r4=w*100\n",
    "else:\n",
    "    r4=8*100+(w-8)*115\n",
    "if(th<=8):\n",
    "    r5=th*100\n",
    "else:\n",
    "    r5=8*100+(th-8)*115\n",
    "if(f<=8):\n",
    "    r6=f*100\n",
    "else:\n",
    "    r6=8*100+(f-8)*115\n",
    "r7=125*sa\n",
    "print(r1+r2+r3+r4+r5+r6+r7)"
   ]
  },
  {
   "cell_type": "code",
   "execution_count": null,
   "id": "e22a7c06-f261-4cb9-9a31-a67e41aa5096",
   "metadata": {},
   "outputs": [],
   "source": [
    "Ravi along with his friends decided to open castle back and later was found in the hotel . and the hotel was flourshing and there was a high demand for \n",
    "it. so ravi decided to modify teh tarrif accordingly . soo write a program to calculate the tarrif. the room rate is 20% higher in the peek season, april\n",
    "to june and november to december.\n",
    "sample input:\n",
    "3 refers to\n",
    "1500 amt oer day\n",
    "2.no of days stayed in hotel"
   ]
  },
  {
   "cell_type": "code",
   "execution_count": null,
   "id": "3aa25205-e971-423e-8c7a-8204982b0bdf",
   "metadata": {},
   "outputs": [],
   "source": [
    "\n",
    "\n"
   ]
  }
 ],
 "metadata": {
  "kernelspec": {
   "display_name": "Python 3 (ipykernel)",
   "language": "python",
   "name": "python3"
  },
  "language_info": {
   "codemirror_mode": {
    "name": "ipython",
    "version": 3
   },
   "file_extension": ".py",
   "mimetype": "text/x-python",
   "name": "python",
   "nbconvert_exporter": "python",
   "pygments_lexer": "ipython3",
   "version": "3.11.7"
  }
 },
 "nbformat": 4,
 "nbformat_minor": 5
}
